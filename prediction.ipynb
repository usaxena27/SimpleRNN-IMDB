{
 "cells": [
  {
   "cell_type": "code",
   "execution_count": 1,
   "id": "7068cf73",
   "metadata": {},
   "outputs": [],
   "source": [
    "# Step 1: Import Libraries and Load the Model\n",
    "import numpy as np\n",
    "import tensorflow as tf\n",
    "from tensorflow.keras.datasets import imdb\n",
    "from tensorflow.keras.preprocessing import sequence\n",
    "from tensorflow.keras.models import load_model"
   ]
  },
  {
   "cell_type": "code",
   "execution_count": 2,
   "id": "4dd5ac15",
   "metadata": {},
   "outputs": [],
   "source": [
    "# Load the IMDB dataset word index\n",
    "word_index= imdb.get_word_index()\n",
    "reverse_word_index = {value: key for key, value in word_index.items()}\n"
   ]
  },
  {
   "cell_type": "code",
   "execution_count": 5,
   "id": "3f605502",
   "metadata": {},
   "outputs": [
    {
     "name": "stderr",
     "output_type": "stream",
     "text": [
      "WARNING:absl:Compiled the loaded model, but the compiled metrics have yet to be built. `model.compile_metrics` will be empty until you train or evaluate the model.\n"
     ]
    },
    {
     "data": {
      "text/html": [
       "<pre style=\"white-space:pre;overflow-x:auto;line-height:normal;font-family:Menlo,'DejaVu Sans Mono',consolas,'Courier New',monospace\"><span style=\"font-weight: bold\">Model: \"sequential_1\"</span>\n",
       "</pre>\n"
      ],
      "text/plain": [
       "\u001b[1mModel: \"sequential_1\"\u001b[0m\n"
      ]
     },
     "metadata": {},
     "output_type": "display_data"
    },
    {
     "data": {
      "text/html": [
       "<pre style=\"white-space:pre;overflow-x:auto;line-height:normal;font-family:Menlo,'DejaVu Sans Mono',consolas,'Courier New',monospace\">┏━━━━━━━━━━━━━━━━━━━━━━━━━━━━━━━━━┳━━━━━━━━━━━━━━━━━━━━━━━━┳━━━━━━━━━━━━━━━┓\n",
       "┃<span style=\"font-weight: bold\"> Layer (type)                    </span>┃<span style=\"font-weight: bold\"> Output Shape           </span>┃<span style=\"font-weight: bold\">       Param # </span>┃\n",
       "┡━━━━━━━━━━━━━━━━━━━━━━━━━━━━━━━━━╇━━━━━━━━━━━━━━━━━━━━━━━━╇━━━━━━━━━━━━━━━┩\n",
       "│ embedding_1 (<span style=\"color: #0087ff; text-decoration-color: #0087ff\">Embedding</span>)         │ (<span style=\"color: #00d7ff; text-decoration-color: #00d7ff\">None</span>, <span style=\"color: #00af00; text-decoration-color: #00af00\">500</span>, <span style=\"color: #00af00; text-decoration-color: #00af00\">128</span>)       │     <span style=\"color: #00af00; text-decoration-color: #00af00\">1,280,000</span> │\n",
       "├─────────────────────────────────┼────────────────────────┼───────────────┤\n",
       "│ simple_rnn_1 (<span style=\"color: #0087ff; text-decoration-color: #0087ff\">SimpleRNN</span>)        │ (<span style=\"color: #00d7ff; text-decoration-color: #00d7ff\">None</span>, <span style=\"color: #00af00; text-decoration-color: #00af00\">128</span>)            │        <span style=\"color: #00af00; text-decoration-color: #00af00\">32,896</span> │\n",
       "├─────────────────────────────────┼────────────────────────┼───────────────┤\n",
       "│ dense_1 (<span style=\"color: #0087ff; text-decoration-color: #0087ff\">Dense</span>)                 │ (<span style=\"color: #00d7ff; text-decoration-color: #00d7ff\">None</span>, <span style=\"color: #00af00; text-decoration-color: #00af00\">1</span>)              │           <span style=\"color: #00af00; text-decoration-color: #00af00\">129</span> │\n",
       "└─────────────────────────────────┴────────────────────────┴───────────────┘\n",
       "</pre>\n"
      ],
      "text/plain": [
       "┏━━━━━━━━━━━━━━━━━━━━━━━━━━━━━━━━━┳━━━━━━━━━━━━━━━━━━━━━━━━┳━━━━━━━━━━━━━━━┓\n",
       "┃\u001b[1m \u001b[0m\u001b[1mLayer (type)                   \u001b[0m\u001b[1m \u001b[0m┃\u001b[1m \u001b[0m\u001b[1mOutput Shape          \u001b[0m\u001b[1m \u001b[0m┃\u001b[1m \u001b[0m\u001b[1m      Param #\u001b[0m\u001b[1m \u001b[0m┃\n",
       "┡━━━━━━━━━━━━━━━━━━━━━━━━━━━━━━━━━╇━━━━━━━━━━━━━━━━━━━━━━━━╇━━━━━━━━━━━━━━━┩\n",
       "│ embedding_1 (\u001b[38;5;33mEmbedding\u001b[0m)         │ (\u001b[38;5;45mNone\u001b[0m, \u001b[38;5;34m500\u001b[0m, \u001b[38;5;34m128\u001b[0m)       │     \u001b[38;5;34m1,280,000\u001b[0m │\n",
       "├─────────────────────────────────┼────────────────────────┼───────────────┤\n",
       "│ simple_rnn_1 (\u001b[38;5;33mSimpleRNN\u001b[0m)        │ (\u001b[38;5;45mNone\u001b[0m, \u001b[38;5;34m128\u001b[0m)            │        \u001b[38;5;34m32,896\u001b[0m │\n",
       "├─────────────────────────────────┼────────────────────────┼───────────────┤\n",
       "│ dense_1 (\u001b[38;5;33mDense\u001b[0m)                 │ (\u001b[38;5;45mNone\u001b[0m, \u001b[38;5;34m1\u001b[0m)              │           \u001b[38;5;34m129\u001b[0m │\n",
       "└─────────────────────────────────┴────────────────────────┴───────────────┘\n"
      ]
     },
     "metadata": {},
     "output_type": "display_data"
    },
    {
     "data": {
      "text/html": [
       "<pre style=\"white-space:pre;overflow-x:auto;line-height:normal;font-family:Menlo,'DejaVu Sans Mono',consolas,'Courier New',monospace\"><span style=\"font-weight: bold\"> Total params: </span><span style=\"color: #00af00; text-decoration-color: #00af00\">1,313,027</span> (5.01 MB)\n",
       "</pre>\n"
      ],
      "text/plain": [
       "\u001b[1m Total params: \u001b[0m\u001b[38;5;34m1,313,027\u001b[0m (5.01 MB)\n"
      ]
     },
     "metadata": {},
     "output_type": "display_data"
    },
    {
     "data": {
      "text/html": [
       "<pre style=\"white-space:pre;overflow-x:auto;line-height:normal;font-family:Menlo,'DejaVu Sans Mono',consolas,'Courier New',monospace\"><span style=\"font-weight: bold\"> Trainable params: </span><span style=\"color: #00af00; text-decoration-color: #00af00\">1,313,025</span> (5.01 MB)\n",
       "</pre>\n"
      ],
      "text/plain": [
       "\u001b[1m Trainable params: \u001b[0m\u001b[38;5;34m1,313,025\u001b[0m (5.01 MB)\n"
      ]
     },
     "metadata": {},
     "output_type": "display_data"
    },
    {
     "data": {
      "text/html": [
       "<pre style=\"white-space:pre;overflow-x:auto;line-height:normal;font-family:Menlo,'DejaVu Sans Mono',consolas,'Courier New',monospace\"><span style=\"font-weight: bold\"> Non-trainable params: </span><span style=\"color: #00af00; text-decoration-color: #00af00\">0</span> (0.00 B)\n",
       "</pre>\n"
      ],
      "text/plain": [
       "\u001b[1m Non-trainable params: \u001b[0m\u001b[38;5;34m0\u001b[0m (0.00 B)\n"
      ]
     },
     "metadata": {},
     "output_type": "display_data"
    },
    {
     "data": {
      "text/html": [
       "<pre style=\"white-space:pre;overflow-x:auto;line-height:normal;font-family:Menlo,'DejaVu Sans Mono',consolas,'Courier New',monospace\"><span style=\"font-weight: bold\"> Optimizer params: </span><span style=\"color: #00af00; text-decoration-color: #00af00\">2</span> (12.00 B)\n",
       "</pre>\n"
      ],
      "text/plain": [
       "\u001b[1m Optimizer params: \u001b[0m\u001b[38;5;34m2\u001b[0m (12.00 B)\n"
      ]
     },
     "metadata": {},
     "output_type": "display_data"
    }
   ],
   "source": [
    "# Load the pre-trained model with ReLU activation\n",
    "model=load_model('simple_rnn_imdb.h5')\n",
    "model.summary()"
   ]
  },
  {
   "cell_type": "code",
   "execution_count": 6,
   "id": "97f18703",
   "metadata": {},
   "outputs": [
    {
     "data": {
      "text/plain": [
       "[array([[ 0.4356487 , -0.4198091 ,  0.5274533 , ..., -0.36460233,\n",
       "         -0.37962425,  0.37411338],\n",
       "        [ 0.02160802, -0.00596439, -0.00728132, ..., -0.06045746,\n",
       "         -0.01666075,  0.01898739],\n",
       "        [-0.03942816,  0.08867409, -0.01822215, ...,  0.05088605,\n",
       "          0.01124516, -0.00994097],\n",
       "        ...,\n",
       "        [ 0.06578664, -0.10462435,  0.07317047, ..., -0.07524074,\n",
       "         -0.03734861,  0.06112178],\n",
       "        [ 0.0343887 , -0.01693974,  0.0626021 , ...,  0.01590374,\n",
       "          0.11453088,  0.05146869],\n",
       "        [-0.07125916,  0.18407725,  0.10095342, ...,  0.08043727,\n",
       "          0.06567916, -0.10912852]], dtype=float32),\n",
       " array([[-0.0990898 , -0.01539608, -0.03616571, ...,  0.04118376,\n",
       "         -0.13007751,  0.14448626],\n",
       "        [ 0.1314592 , -0.02692625,  0.06743488, ...,  0.08342061,\n",
       "          0.1377171 , -0.16983533],\n",
       "        [ 0.12737016,  0.10306653,  0.00653377, ...,  0.10765914,\n",
       "         -0.0497555 , -0.0153608 ],\n",
       "        ...,\n",
       "        [-0.03991159, -0.02296679,  0.0107029 , ..., -0.11484577,\n",
       "         -0.09599017, -0.09257024],\n",
       "        [-0.05279763, -0.05955708,  0.11199564, ..., -0.11765463,\n",
       "          0.05779602,  0.0636306 ],\n",
       "        [ 0.05842742, -0.15472414, -0.01873389, ...,  0.15402159,\n",
       "         -0.00753307,  0.11719497]], dtype=float32),\n",
       " array([[-0.13452011, -0.03279996, -0.15489714, ..., -0.05580943,\n",
       "          0.04059711,  0.10156912],\n",
       "        [ 0.03956252, -0.04936764,  0.02125596, ...,  0.07888579,\n",
       "          0.00476797, -0.06025697],\n",
       "        [-0.01657652, -0.07429001,  0.00486275, ...,  0.12132116,\n",
       "          0.00961813, -0.12691729],\n",
       "        ...,\n",
       "        [-0.07284256,  0.13893868, -0.04647012, ..., -0.1539067 ,\n",
       "         -0.13299803, -0.10219811],\n",
       "        [ 0.08373369,  0.10139343, -0.05962199, ..., -0.07309494,\n",
       "         -0.06356857, -0.13088161],\n",
       "        [ 0.09964117,  0.01286073, -0.12433936, ..., -0.00073951,\n",
       "          0.0005745 , -0.0100413 ]], dtype=float32),\n",
       " array([ 3.1746898e-02,  1.6445704e-02, -3.4928240e-02, -1.8680200e-02,\n",
       "         3.7888382e-02,  2.3732917e-02, -7.2121983e-03, -8.4786024e-03,\n",
       "         2.3920376e-02, -3.4122206e-02, -1.2951476e-03, -3.5484500e-02,\n",
       "        -1.6873868e-02, -1.9242059e-02, -1.0946697e-02, -2.0719839e-02,\n",
       "         1.9855607e-02,  2.3338582e-02,  8.8889645e-03,  1.6872255e-02,\n",
       "        -4.8536733e-03,  3.8187183e-02,  2.4245581e-02,  4.8580959e-02,\n",
       "        -1.2248266e-02, -2.2187414e-02,  8.2221720e-03,  4.6519563e-02,\n",
       "        -1.3599166e-02, -1.3412395e-02, -4.5494596e-03, -2.9496605e-02,\n",
       "         3.7872950e-03, -2.7574638e-02, -3.0833710e-02,  2.3070008e-02,\n",
       "        -3.8571388e-02, -2.0821100e-02,  2.9034516e-02, -9.7060986e-03,\n",
       "        -1.4290514e-02,  1.7273270e-02,  2.4127036e-02, -2.0965572e-02,\n",
       "         9.7675575e-03,  3.4724833e-03,  3.0585006e-03, -1.7040394e-02,\n",
       "        -3.9043117e-02,  5.4204473e-03,  4.0845990e-02,  6.1841914e-03,\n",
       "         2.7829615e-02, -3.0865567e-02, -3.0354600e-02, -2.1508554e-02,\n",
       "        -2.6821572e-02, -3.1254012e-02,  5.8927070e-03, -2.2983691e-02,\n",
       "        -2.7710950e-02, -2.1976406e-02, -2.6971156e-02, -1.8321596e-02,\n",
       "        -1.9987442e-02, -8.7389918e-03, -2.1888537e-02,  6.0783528e-02,\n",
       "        -1.9032607e-02,  1.2773177e-02, -1.0373225e-02, -1.5014120e-02,\n",
       "        -1.3617236e-02,  5.9548719e-03, -3.7589222e-02, -3.3316133e-03,\n",
       "        -6.7313056e-04, -1.4949137e-02,  2.3466052e-02, -4.7077956e-05,\n",
       "        -2.5556190e-02, -2.0495906e-02,  7.9447115e-03, -1.3649058e-02,\n",
       "        -3.5501696e-02,  2.6070133e-02,  3.2621827e-02,  1.6254509e-02,\n",
       "         2.4402294e-02, -2.0874918e-02,  6.4609735e-03, -2.9602833e-02,\n",
       "        -3.0787997e-02,  2.6708020e-02,  2.8866388e-02,  9.4774383e-04,\n",
       "        -3.1269360e-02, -1.7339496e-02,  2.3582216e-02,  4.0785629e-02,\n",
       "         1.4180509e-02, -2.3338763e-02, -1.6861266e-02,  5.5428054e-03,\n",
       "        -9.3014963e-04, -7.3285243e-03,  4.7985047e-02, -2.1557316e-02,\n",
       "        -3.6087256e-02, -2.5158031e-02, -3.0933691e-02,  1.9888865e-02,\n",
       "        -3.8372904e-02, -3.3125199e-02, -3.0930722e-02, -1.9833440e-02,\n",
       "         2.1126684e-02, -2.6291819e-02, -3.0755883e-02, -2.1252993e-02,\n",
       "        -2.6712820e-02,  6.8673718e-04, -2.5124243e-02,  2.1592442e-02,\n",
       "         3.3525817e-02,  2.9911858e-03,  9.6628338e-04, -1.8833943e-02],\n",
       "       dtype=float32),\n",
       " array([[ 1.35795787e-01],\n",
       "        [ 1.47716612e-01],\n",
       "        [ 1.92931011e-01],\n",
       "        [ 1.53326333e-01],\n",
       "        [-2.58820709e-02],\n",
       "        [-1.65215760e-01],\n",
       "        [ 3.02495658e-02],\n",
       "        [-5.70036620e-02],\n",
       "        [-1.21271551e-01],\n",
       "        [-4.01291013e-01],\n",
       "        [ 1.42835855e-01],\n",
       "        [-3.08801401e-02],\n",
       "        [ 2.09902942e-01],\n",
       "        [-1.62971884e-01],\n",
       "        [ 9.62596014e-02],\n",
       "        [-1.03456616e-01],\n",
       "        [ 1.50290623e-01],\n",
       "        [-3.32876556e-02],\n",
       "        [-2.01485809e-02],\n",
       "        [ 2.12171674e-02],\n",
       "        [-1.34248361e-01],\n",
       "        [ 1.81355685e-01],\n",
       "        [ 7.84854293e-02],\n",
       "        [-6.38485134e-01],\n",
       "        [ 1.55951586e-02],\n",
       "        [ 1.69045329e-01],\n",
       "        [ 1.78111598e-01],\n",
       "        [ 1.99769869e-01],\n",
       "        [-1.77733883e-01],\n",
       "        [-6.59326762e-02],\n",
       "        [-1.48932114e-01],\n",
       "        [-5.86181181e-04],\n",
       "        [ 1.65159196e-01],\n",
       "        [-2.38408700e-01],\n",
       "        [-1.07345611e-01],\n",
       "        [ 9.23287272e-02],\n",
       "        [-1.87356040e-01],\n",
       "        [-7.26254135e-02],\n",
       "        [ 1.25037193e-01],\n",
       "        [ 6.34610131e-02],\n",
       "        [-1.80877466e-02],\n",
       "        [ 7.18152672e-02],\n",
       "        [-7.67679363e-02],\n",
       "        [ 2.43115351e-01],\n",
       "        [ 5.00992239e-01],\n",
       "        [ 9.22804475e-02],\n",
       "        [-8.81835043e-01],\n",
       "        [-3.17192882e-01],\n",
       "        [ 3.65459472e-02],\n",
       "        [ 9.86517891e-02],\n",
       "        [ 2.43848950e-01],\n",
       "        [-4.00696993e-02],\n",
       "        [-1.21389747e+00],\n",
       "        [-2.20427468e-01],\n",
       "        [-1.38242811e-01],\n",
       "        [-1.21750258e-01],\n",
       "        [-9.12316144e-02],\n",
       "        [-1.59691274e-01],\n",
       "        [ 2.01862723e-01],\n",
       "        [-6.54920712e-02],\n",
       "        [-8.81773159e-02],\n",
       "        [-9.92016718e-02],\n",
       "        [-1.73216879e-01],\n",
       "        [-2.50416279e-01],\n",
       "        [-5.93309551e-02],\n",
       "        [ 7.67724589e-02],\n",
       "        [-2.11247191e-01],\n",
       "        [ 1.30096287e-01],\n",
       "        [-5.37119880e-02],\n",
       "        [ 1.34203255e-01],\n",
       "        [ 9.99389067e-02],\n",
       "        [-1.37687936e-01],\n",
       "        [ 7.66522065e-02],\n",
       "        [-1.66427210e-01],\n",
       "        [-6.04770184e-02],\n",
       "        [-1.24652676e-01],\n",
       "        [-2.04513490e-01],\n",
       "        [-1.46588549e-01],\n",
       "        [ 2.22739458e-01],\n",
       "        [ 1.65972300e-02],\n",
       "        [-1.24388121e-01],\n",
       "        [-3.86944376e-02],\n",
       "        [ 8.04395601e-02],\n",
       "        [-1.60454505e-03],\n",
       "        [ 1.74277112e-01],\n",
       "        [-9.45125371e-02],\n",
       "        [ 1.47746295e-01],\n",
       "        [ 1.91209689e-01],\n",
       "        [-5.70476875e-02],\n",
       "        [-9.09826815e-01],\n",
       "        [-1.32169992e-01],\n",
       "        [-3.82353105e-02],\n",
       "        [-1.11876413e-01],\n",
       "        [-8.07467103e-02],\n",
       "        [-2.57769614e-01],\n",
       "        [-3.96809787e-01],\n",
       "        [ 8.33017603e-02],\n",
       "        [-1.15332454e-01],\n",
       "        [-1.47106692e-01],\n",
       "        [ 1.87787130e-01],\n",
       "        [-7.26981834e-02],\n",
       "        [-1.99375361e-01],\n",
       "        [-3.24960619e-01],\n",
       "        [-2.72012595e-02],\n",
       "        [ 9.04192254e-02],\n",
       "        [-1.60115749e-01],\n",
       "        [ 2.94418279e-02],\n",
       "        [ 2.66007166e-02],\n",
       "        [ 1.35020584e-01],\n",
       "        [-5.35029247e-02],\n",
       "        [-1.06549494e-01],\n",
       "        [ 7.45803639e-02],\n",
       "        [-1.76253766e-01],\n",
       "        [ 3.22196484e-02],\n",
       "        [-1.72990084e-01],\n",
       "        [-6.81914389e-02],\n",
       "        [-6.40726611e-02],\n",
       "        [-1.45203575e-01],\n",
       "        [-7.42782876e-02],\n",
       "        [-8.39437097e-02],\n",
       "        [ 1.28032044e-01],\n",
       "        [ 1.95758089e-01],\n",
       "        [ 1.43733934e-01],\n",
       "        [-1.14418253e-01],\n",
       "        [ 6.23166934e-02],\n",
       "        [-1.95889711e-01],\n",
       "        [ 1.18016556e-01],\n",
       "        [-1.94162011e-01]], dtype=float32),\n",
       " array([-0.32080093], dtype=float32)]"
      ]
     },
     "execution_count": 6,
     "metadata": {},
     "output_type": "execute_result"
    }
   ],
   "source": [
    "model.get_weights()"
   ]
  },
  {
   "cell_type": "code",
   "execution_count": 7,
   "id": "3d6162e4",
   "metadata": {},
   "outputs": [],
   "source": [
    "# Step 2: Helper Functions\n",
    "# Function to decode reviews\n",
    "def decode_reviews(encoded_review):\n",
    "    return ' '.join([reverse_word_index.get(i - 3, '?') for i in encoded_review])\n",
    "\n",
    "# Function to preprocess user input\n",
    "def preprocess_text(text):\n",
    "    words = text.lower().split()\n",
    "    encoded_review = [word_index.get(word,2) + 3 for word in words]\n",
    "    padded_review = sequence.pad_sequences([encoded_review], maxlen=500)\n",
    "    return padded_review"
   ]
  },
  {
   "cell_type": "code",
   "execution_count": 8,
   "id": "cf9f61b1",
   "metadata": {},
   "outputs": [],
   "source": [
    "### Prediction function\n",
    "\n",
    "def predict_sentiment(review):\n",
    "    preprocessed_input=preprocess_text(review)\n",
    "\n",
    "    prediction=model.predict(preprocessed_input)\n",
    "\n",
    "    sentiment = 'Positive' if prediction[0][0] > 0.5 else 'Negative'\n",
    "\n",
    "    return sentiment, prediction[0][0]"
   ]
  },
  {
   "cell_type": "code",
   "execution_count": 9,
   "id": "8337309e",
   "metadata": {},
   "outputs": [
    {
     "name": "stdout",
     "output_type": "stream",
     "text": [
      "\u001b[1m1/1\u001b[0m \u001b[32m━━━━━━━━━━━━━━━━━━━━\u001b[0m\u001b[37m\u001b[0m \u001b[1m1s\u001b[0m 975ms/step\n",
      "Review: This movie was fantastic! The acting was great and the plot was thrilling.\n",
      "Sentiment: Negative\n",
      "Prediction Score: 0.17885378003120422\n"
     ]
    }
   ],
   "source": [
    "# Step 4: User Input and Prediction\n",
    "# Example review for prediction\n",
    "example_review = \"This movie was fantastic! The acting was great and the plot was thrilling.\"\n",
    "\n",
    "sentiment,score=predict_sentiment(example_review)\n",
    "\n",
    "print(f'Review: {example_review}')\n",
    "print(f'Sentiment: {sentiment}')\n",
    "print(f'Prediction Score: {score}')"
   ]
  },
  {
   "cell_type": "code",
   "execution_count": null,
   "id": "54d147e3",
   "metadata": {},
   "outputs": [],
   "source": []
  }
 ],
 "metadata": {
  "kernelspec": {
   "display_name": "Python 3",
   "language": "python",
   "name": "python3"
  },
  "language_info": {
   "codemirror_mode": {
    "name": "ipython",
    "version": 3
   },
   "file_extension": ".py",
   "mimetype": "text/x-python",
   "name": "python",
   "nbconvert_exporter": "python",
   "pygments_lexer": "ipython3",
   "version": "3.12.0"
  }
 },
 "nbformat": 4,
 "nbformat_minor": 5
}
